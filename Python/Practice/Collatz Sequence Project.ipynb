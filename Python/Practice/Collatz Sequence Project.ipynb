{
 "cells": [
  {
   "cell_type": "code",
   "execution_count": 1,
   "id": "35bea432-50ae-492a-bd95-d59c0a112f38",
   "metadata": {},
   "outputs": [],
   "source": [
    "def collatz(number):\n",
    "    if number%2==0:\n",
    "        return number//2\n",
    "    else:\n",
    "        return 3*number+1\n"
   ]
  },
  {
   "cell_type": "code",
   "execution_count": 2,
   "id": "b277c693-d7d4-4257-b1e4-cad08bde2358",
   "metadata": {},
   "outputs": [
    {
     "name": "stdin",
     "output_type": "stream",
     "text": [
      "Enter a number: 3\n"
     ]
    },
    {
     "name": "stdout",
     "output_type": "stream",
     "text": [
      "10\n",
      "5\n",
      "16\n",
      "8\n",
      "4\n",
      "2\n",
      "1\n"
     ]
    }
   ],
   "source": [
    "user_num = int(input(\"Enter a number:\"))\n",
    "result = user_num\n",
    "while(result!=1):\n",
    "    result = collatz(result)\n",
    "    print(result)"
   ]
  },
  {
   "cell_type": "code",
   "execution_count": null,
   "id": "00c6a986-edf0-46b0-8db0-de9b8494a5a0",
   "metadata": {},
   "outputs": [],
   "source": []
  }
 ],
 "metadata": {
  "kernelspec": {
   "display_name": "Python 3 (ipykernel)",
   "language": "python",
   "name": "python3"
  },
  "language_info": {
   "codemirror_mode": {
    "name": "ipython",
    "version": 3
   },
   "file_extension": ".py",
   "mimetype": "text/x-python",
   "name": "python",
   "nbconvert_exporter": "python",
   "pygments_lexer": "ipython3",
   "version": "3.12.3"
  }
 },
 "nbformat": 4,
 "nbformat_minor": 5
}
