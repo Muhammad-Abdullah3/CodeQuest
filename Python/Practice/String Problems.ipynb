{
 "cells": [
  {
   "cell_type": "markdown",
   "id": "cd59ab47-8e13-4970-a5be-1a47364240c6",
   "metadata": {},
   "source": [
    "1. Find the length of a given string without using the len() function"
   ]
  },
  {
   "cell_type": "code",
   "execution_count": 2,
   "id": "9d5da4e2-69cc-40ad-9e1b-8e152a5cea11",
   "metadata": {},
   "outputs": [
    {
     "name": "stdout",
     "output_type": "stream",
     "text": [
      "Length of string : 52\n"
     ]
    }
   ],
   "source": [
    "string = \"What I've done for the people can never be paid back\"\n",
    "count = 0\n",
    "for s in string:\n",
    "    count+=1\n",
    "print(\"Length of string :\",count)\n",
    "    "
   ]
  },
  {
   "cell_type": "code",
   "execution_count": 3,
   "id": "9465fa39-a9db-43d1-aa19-77cbfa3a3c22",
   "metadata": {},
   "outputs": [
    {
     "name": "stdout",
     "output_type": "stream",
     "text": [
      "52\n"
     ]
    }
   ],
   "source": [
    "# verification\n",
    "print(len(string))"
   ]
  },
  {
   "cell_type": "markdown",
   "id": "83729c25-c5ac-48ee-af1c-5adc1479a003",
   "metadata": {},
   "source": [
    "2. Extract username from a given email.\n",
    "   \n",
    "    Eg if the email is xyz76@gmail.com\n",
    "    then the username should be xyz76"
   ]
  },
  {
   "cell_type": "code",
   "execution_count": 6,
   "id": "c033c92c-c8c6-4ef2-ab89-31a6bf3b08e1",
   "metadata": {},
   "outputs": [
    {
     "name": "stdout",
     "output_type": "stream",
     "text": [
      "abd36,akhtarwaheed96\n"
     ]
    }
   ],
   "source": [
    "email = [\"abd36@gmal.com\",\"akhtarwaheed96@gmail.com\"]\n",
    "position1 = email[0].index('@')\n",
    "position2 = email[1].index('@')\n",
    "user_name1 = email[0][0:position1]\n",
    "user_name2 = email[1][0:position2]\n",
    "print(user_name1,end=',')\n",
    "print(user_name2)"
   ]
  },
  {
   "cell_type": "markdown",
   "id": "f8501aab-7186-4a7b-b8b9-cb084a5fb4e8",
   "metadata": {},
   "source": [
    "3. Count the frequency of a particular character in a provided string.\n",
    "   \n",
    "    `Eg 'hello how are you' is the string, the frequency of h in this string is 2.\n"
   ]
  },
  {
   "cell_type": "code",
   "execution_count": 17,
   "id": "a79c7116-268f-4a39-a80b-fbf6df173e97",
   "metadata": {},
   "outputs": [],
   "source": [
    "def count(string, char):\n",
    "    freq = 0\n",
    "    for s in string:\n",
    "        if s == char:\n",
    "            freq += 1\n",
    "    return freq"
   ]
  },
  {
   "cell_type": "code",
   "execution_count": 23,
   "id": "614893cd-f274-45ec-ad2f-09dd3cd77602",
   "metadata": {},
   "outputs": [
    {
     "name": "stdin",
     "output_type": "stream",
     "text": [
      "Type in the string some thing is missingsjknfkdsnafkskdagfukdsnjfhsaknjdghkjdashgsf\n",
      "Type in the alphabet you would like to search for sg\n"
     ]
    },
    {
     "name": "stdout",
     "output_type": "stream",
     "text": [
      "Total time the character 'sg' occured in the entered string is: 0\n"
     ]
    }
   ],
   "source": [
    "input_str = input(\"Type in the string\")\n",
    "input_char = input(\"Type in the alphabet you would like to search for\")\n",
    "freq = count(input_str,input_char)\n",
    "print(f\"Total time the character '{input_char}' occured in the entered string is: {freq}\") "
   ]
  },
  {
   "cell_type": "markdown",
   "id": "0e378b5e-c84d-4015-9f0c-b3de0a192166",
   "metadata": {},
   "source": [
    "4. Write a program which can remove a particular character from a string."
   ]
  },
  {
   "cell_type": "code",
   "execution_count": 37,
   "id": "a8c3f20d-d75a-4d98-980a-4610014a1462",
   "metadata": {},
   "outputs": [],
   "source": [
    "def rem(string, char):\n",
    "    string.replace(char,' ')\n",
    "    return string"
   ]
  },
  {
   "cell_type": "code",
   "execution_count": 39,
   "id": "b7d6646a-aae0-4882-ae41-9ae72adf8ca1",
   "metadata": {},
   "outputs": [
    {
     "name": "stdout",
     "output_type": "stream",
     "text": [
      "Help me remove this letter e in my string\n"
     ]
    }
   ],
   "source": [
    "str = \"Help me remove this letter e in my string\"\n",
    "str = rem(str,'e')\n",
    "print(str)"
   ]
  },
  {
   "cell_type": "code",
   "execution_count": null,
   "id": "db8faca0-114f-40d2-b742-1b1a93060266",
   "metadata": {},
   "outputs": [],
   "source": []
  }
 ],
 "metadata": {
  "kernelspec": {
   "display_name": "Python 3 (ipykernel)",
   "language": "python",
   "name": "python3"
  },
  "language_info": {
   "codemirror_mode": {
    "name": "ipython",
    "version": 3
   },
   "file_extension": ".py",
   "mimetype": "text/x-python",
   "name": "python",
   "nbconvert_exporter": "python",
   "pygments_lexer": "ipython3",
   "version": "3.12.3"
  }
 },
 "nbformat": 4,
 "nbformat_minor": 5
}
